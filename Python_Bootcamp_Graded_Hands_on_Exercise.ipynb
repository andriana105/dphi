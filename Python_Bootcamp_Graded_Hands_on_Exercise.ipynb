{
  "nbformat": 4,
  "nbformat_minor": 0,
  "metadata": {
    "kernelspec": {
      "display_name": "Python 3",
      "language": "python",
      "name": "python3"
    },
    "language_info": {
      "codemirror_mode": {
        "name": "ipython",
        "version": 3
      },
      "file_extension": ".py",
      "mimetype": "text/x-python",
      "name": "python",
      "nbconvert_exporter": "python",
      "pygments_lexer": "ipython3",
      "version": "3.7.6"
    },
    "colab": {
      "provenance": [],
      "collapsed_sections": [],
      "include_colab_link": true
    }
  },
  "cells": [
    {
      "cell_type": "markdown",
      "metadata": {
        "id": "view-in-github",
        "colab_type": "text"
      },
      "source": [
        "<a href=\"https://colab.research.google.com/github/andriana105/dphi/blob/main/Python_Bootcamp_Graded_Hands_on_Exercise.ipynb\" target=\"_parent\"><img src=\"https://colab.research.google.com/assets/colab-badge.svg\" alt=\"Open In Colab\"/></a>"
      ]
    },
    {
      "cell_type": "markdown",
      "metadata": {
        "id": "A8yCrhVHQ_lC"
      },
      "source": [
        "##Overview\n",
        "\n",
        "Dear Learner, \n",
        "\n",
        "Congratulations, you have studied Python all the way through the end of this bootcamp!!! This is the final graded hands-on exercise where you will be accomplishing the below mentioned task.\n",
        "\n",
        "Authors: Albana Celepija, Vinayak Deshpande"
      ]
    },
    {
      "cell_type": "markdown",
      "metadata": {
        "id": "y_B39vCQGRTH"
      },
      "source": [
        "###Task 1\n",
        "\n",
        "We have declared a tuple containing five same elements as following:\n",
        "T = (‘python’, ‘python’, ‘python’, ‘python’, ‘python’).\n",
        "Re-write the same code in an optimal/simple way that fetches the same result."
      ]
    },
    {
      "cell_type": "code",
      "source": [
        "T = ('python',) * 5\n",
        "T"
      ],
      "metadata": {
        "id": "xqZiUDrmypJj",
        "outputId": "8917dce3-30dd-40ed-f562-683f649e18d6",
        "colab": {
          "base_uri": "https://localhost:8080/"
        }
      },
      "execution_count": null,
      "outputs": [
        {
          "output_type": "execute_result",
          "data": {
            "text/plain": [
              "('python', 'python', 'python', 'python', 'python')"
            ]
          },
          "metadata": {},
          "execution_count": 3
        }
      ]
    },
    {
      "cell_type": "markdown",
      "metadata": {
        "id": "H_8tFcijGRTQ"
      },
      "source": [
        "###Task 2\n",
        "\n",
        "Write code to print characters from a string that are present at an even index number.\n",
        "For example, if your input string is \"python\", the output characters will be (p,t,o)."
      ]
    },
    {
      "cell_type": "code",
      "source": [
        "inputString = input('Enter a string : ')\n",
        "evenIndex = []\n",
        "oddIndex = []\n",
        "\n",
        "for i in range(len(inputString)):\n",
        "  if i % 2 == 0 :\n",
        "    evenIndex.append(inputString[i])\n",
        "  else:\n",
        "    oddIndex.append(inputString[i])\n",
        "\n",
        "print('Odd Characters : ' + str(oddIndex))\n",
        "\n",
        "print('Even Characters : ' + str(evenIndex))"
      ],
      "metadata": {
        "id": "124ZH0Io0Y8a",
        "outputId": "a395468b-4ffb-4b27-c441-7400a0a48e3c",
        "colab": {
          "base_uri": "https://localhost:8080/"
        }
      },
      "execution_count": null,
      "outputs": [
        {
          "output_type": "stream",
          "name": "stdout",
          "text": [
            "Enter a string : python\n",
            "Odd Characters : ['y', 'h', 'n']\n",
            "Even Characters : ['p', 't', 'o']\n"
          ]
        }
      ]
    },
    {
      "cell_type": "markdown",
      "metadata": {
        "id": "FbLVbwcsGRTT"
      },
      "source": [
        "### Task 3\n",
        "\n",
        "Write a function that calculates the average of the elements of the list: \n",
        "\n",
        "elements = [5, 7, 4, 9, 2]\n"
      ]
    },
    {
      "cell_type": "code",
      "source": [
        "def avgList(elements):\n",
        "  return sum(elements) / len(elements)\n",
        "\n",
        "elements = [5, 7, 4, 9, 2]\n",
        "print(\"Average of the list = \", + avgList(elements))"
      ],
      "metadata": {
        "id": "uzXUAH1f3W-M",
        "outputId": "8a5a3a68-6bd5-4d79-bcdf-4c3b2ef30471",
        "colab": {
          "base_uri": "https://localhost:8080/"
        }
      },
      "execution_count": null,
      "outputs": [
        {
          "output_type": "stream",
          "name": "stdout",
          "text": [
            "Average of the list =  5.4\n"
          ]
        }
      ]
    },
    {
      "cell_type": "markdown",
      "metadata": {
        "id": "2pzfM3wS4oqt"
      },
      "source": [
        "### Task 4\n",
        "Write a code that takes a year as input and determines whether it is a leap year or not."
      ]
    },
    {
      "cell_type": "code",
      "source": [
        "a = int(input(\"Enter a year : \"))\n",
        "\n",
        "if((a%400 == 0) or ((a%4 == 0) and (a%100 !=0))):\n",
        "  print(a, \" is a leap year\")\n",
        "else:\n",
        "  print(a, \" is not a leap year\")"
      ],
      "metadata": {
        "id": "WjLBatn2sNY4",
        "outputId": "217921b3-cec1-4e24-dfeb-a41cd727ba28",
        "colab": {
          "base_uri": "https://localhost:8080/"
        }
      },
      "execution_count": 1,
      "outputs": [
        {
          "output_type": "stream",
          "name": "stdout",
          "text": [
            "Enter a year : 2000\n",
            "2000  is a leap year\n"
          ]
        }
      ]
    },
    {
      "cell_type": "markdown",
      "metadata": {
        "id": "zsVw9yrD5drx"
      },
      "source": [
        "### Task 5\n",
        "Given a list of numbers (integers), find the sum of second maximum and second minimum in the following list.\n",
        "\n",
        "l = [21, 6, 12, 57, 35, 61]"
      ]
    },
    {
      "cell_type": "code",
      "source": [
        "l = [21, 6, 12, 57, 35, 61]\n",
        "len_l = len(l)\n",
        "sumOfList = 0\n",
        "sumList = []\n",
        "\n",
        "for i in range(len_l):\n",
        "  sumOfList = sumOfList + l[i]\n",
        "  sumList.append(sumOfList)\n",
        "  sumList.sort()\n",
        "\n",
        "print(\"The second max \", sumList[-2])\n",
        "print(\"The second min \", sumList[1])"
      ],
      "metadata": {
        "id": "9-7YoOwduaaj",
        "outputId": "46bb4712-b6e4-4509-e2af-0a90a155d740",
        "colab": {
          "base_uri": "https://localhost:8080/"
        }
      },
      "execution_count": 10,
      "outputs": [
        {
          "output_type": "stream",
          "name": "stdout",
          "text": [
            "The second max  131\n",
            "The second min  27\n"
          ]
        }
      ]
    }
  ]
}